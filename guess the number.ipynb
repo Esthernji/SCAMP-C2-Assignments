{
 "cells": [
  {
   "cell_type": "code",
   "execution_count": 1,
   "metadata": {},
   "outputs": [
    {
     "name": "stdout",
     "output_type": "stream",
     "text": [
      "Enter a number between 0 and 20. 6\n",
      "The right number is 19\n",
      "Your guess is low!\n"
     ]
    }
   ],
   "source": [
    "import random\n",
    "n = int (input(\"Enter a number between 0 and 20. \"))\n",
    "x = random.randint(0 , 20)\n",
    "print(\"The right number is\" ,x)\n",
    "if n > x :\n",
    "    print(\"Your Guess is high!\")\n",
    "elif n< x:\n",
    "    print(\"Your guess is low!\")\n",
    "elif n == x:\n",
    "    print(\"Congratulations! Your guess is right.\")\n",
    "else:\n",
    "    print(\"Unrecognized number.\")"
   ]
  },
  {
   "cell_type": "code",
   "execution_count": null,
   "metadata": {},
   "outputs": [],
   "source": []
  }
 ],
 "metadata": {
  "kernelspec": {
   "display_name": "Python 3",
   "language": "python",
   "name": "python3"
  },
  "language_info": {
   "codemirror_mode": {
    "name": "ipython",
    "version": 3
   },
   "file_extension": ".py",
   "mimetype": "text/x-python",
   "name": "python",
   "nbconvert_exporter": "python",
   "pygments_lexer": "ipython3",
   "version": "3.7.4"
  }
 },
 "nbformat": 4,
 "nbformat_minor": 2
}
