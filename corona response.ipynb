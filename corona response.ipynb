{
 "cells": [
  {
   "cell_type": "markdown",
   "metadata": {},
   "source": [
    "# Data Analysis with sample data"
   ]
  },
  {
   "cell_type": "code",
   "execution_count": 1,
   "metadata": {},
   "outputs": [],
   "source": [
    "import pandas as pd\n",
    "import numpy as np\n",
    "import os\n",
    "import matplotlib.pyplot as plt\n",
    "import seaborn as sns\n",
    "%matplotlib inline"
   ]
  },
  {
   "cell_type": "code",
   "execution_count": 2,
   "metadata": {},
   "outputs": [
    {
     "data": {
      "text/html": [
       "<div>\n",
       "<style scoped>\n",
       "    .dataframe tbody tr th:only-of-type {\n",
       "        vertical-align: middle;\n",
       "    }\n",
       "\n",
       "    .dataframe tbody tr th {\n",
       "        vertical-align: top;\n",
       "    }\n",
       "\n",
       "    .dataframe thead th {\n",
       "        text-align: right;\n",
       "    }\n",
       "</style>\n",
       "<table border=\"1\" class=\"dataframe\">\n",
       "  <thead>\n",
       "    <tr style=\"text-align: right;\">\n",
       "      <th></th>\n",
       "      <th>Country</th>\n",
       "      <th>Total_Cases</th>\n",
       "      <th>New_Cases</th>\n",
       "      <th>Total_Deaths</th>\n",
       "      <th>New_Deaths</th>\n",
       "      <th>Total_Recovered</th>\n",
       "      <th>Active_Cases</th>\n",
       "      <th>Serious/Critical</th>\n",
       "      <th>Tot_Cases</th>\n",
       "      <th>Deaths</th>\n",
       "      <th>Total_Tests</th>\n",
       "      <th>Tests</th>\n",
       "      <th>Continents</th>\n",
       "    </tr>\n",
       "  </thead>\n",
       "  <tbody>\n",
       "    <tr>\n",
       "      <td>0</td>\n",
       "      <td>World</td>\n",
       "      <td>9067824</td>\n",
       "      <td>28,887</td>\n",
       "      <td>471040</td>\n",
       "      <td>1,436</td>\n",
       "      <td>4850718.0</td>\n",
       "      <td>3746066.0</td>\n",
       "      <td>54740.0</td>\n",
       "      <td>1,163</td>\n",
       "      <td>60.4</td>\n",
       "      <td>NaN</td>\n",
       "      <td>NaN</td>\n",
       "      <td>All</td>\n",
       "    </tr>\n",
       "    <tr>\n",
       "      <td>1</td>\n",
       "      <td>USA</td>\n",
       "      <td>2356715</td>\n",
       "      <td>58</td>\n",
       "      <td>122248</td>\n",
       "      <td>1</td>\n",
       "      <td>980367.0</td>\n",
       "      <td>1254100.0</td>\n",
       "      <td>16477.0</td>\n",
       "      <td>7,121</td>\n",
       "      <td>369</td>\n",
       "      <td>28,492,770</td>\n",
       "      <td>86,093</td>\n",
       "      <td>North America</td>\n",
       "    </tr>\n",
       "    <tr>\n",
       "      <td>2</td>\n",
       "      <td>Brazil</td>\n",
       "      <td>1086990</td>\n",
       "      <td>NaN</td>\n",
       "      <td>50659</td>\n",
       "      <td>NaN</td>\n",
       "      <td>579226.0</td>\n",
       "      <td>457105.0</td>\n",
       "      <td>8318.0</td>\n",
       "      <td>5,115</td>\n",
       "      <td>238</td>\n",
       "      <td>2,430,347</td>\n",
       "      <td>11,436</td>\n",
       "      <td>South America</td>\n",
       "    </tr>\n",
       "    <tr>\n",
       "      <td>3</td>\n",
       "      <td>Russia</td>\n",
       "      <td>592280</td>\n",
       "      <td>7,600</td>\n",
       "      <td>8206</td>\n",
       "      <td>95</td>\n",
       "      <td>344416.0</td>\n",
       "      <td>239658.0</td>\n",
       "      <td>2300.0</td>\n",
       "      <td>4,059</td>\n",
       "      <td>56</td>\n",
       "      <td>17,200,000</td>\n",
       "      <td>117,862</td>\n",
       "      <td>Europe</td>\n",
       "    </tr>\n",
       "    <tr>\n",
       "      <td>4</td>\n",
       "      <td>India</td>\n",
       "      <td>426910</td>\n",
       "      <td>NaN</td>\n",
       "      <td>13703</td>\n",
       "      <td>NaN</td>\n",
       "      <td>237252.0</td>\n",
       "      <td>175955.0</td>\n",
       "      <td>8944.0</td>\n",
       "      <td>309</td>\n",
       "      <td>10</td>\n",
       "      <td>6,950,493</td>\n",
       "      <td>5,038</td>\n",
       "      <td>Asia</td>\n",
       "    </tr>\n",
       "  </tbody>\n",
       "</table>\n",
       "</div>"
      ],
      "text/plain": [
       "  Country  Total_Cases New_Cases Total_Deaths New_Deaths  Total_Recovered  \\\n",
       "0   World      9067824    28,887       471040      1,436        4850718.0   \n",
       "1     USA      2356715        58      122248           1         980367.0   \n",
       "2  Brazil      1086990       NaN       50659         NaN         579226.0   \n",
       "3  Russia       592280     7,600        8206          95         344416.0   \n",
       "4   India       426910       NaN       13703         NaN         237252.0   \n",
       "\n",
       "   Active_Cases  Serious/Critical Tot_Cases Deaths Total_Tests    Tests  \\\n",
       "0     3746066.0           54740.0     1,163   60.4         NaN      NaN   \n",
       "1     1254100.0           16477.0     7,121    369  28,492,770   86,093   \n",
       "2      457105.0            8318.0     5,115    238   2,430,347   11,436   \n",
       "3      239658.0            2300.0     4,059     56  17,200,000  117,862   \n",
       "4      175955.0            8944.0       309     10   6,950,493    5,038   \n",
       "\n",
       "      Continents  \n",
       "0            All  \n",
       "1  North America  \n",
       "2  South America  \n",
       "3         Europe  \n",
       "4           Asia  "
      ]
     },
     "execution_count": 2,
     "metadata": {},
     "output_type": "execute_result"
    }
   ],
   "source": [
    "corona_response= pd.read_csv('C:/datasets/response.csv')\n",
    "corona_response.head()"
   ]
  },
  {
   "cell_type": "code",
   "execution_count": 3,
   "metadata": {},
   "outputs": [
    {
     "data": {
      "text/html": [
       "<div>\n",
       "<style scoped>\n",
       "    .dataframe tbody tr th:only-of-type {\n",
       "        vertical-align: middle;\n",
       "    }\n",
       "\n",
       "    .dataframe tbody tr th {\n",
       "        vertical-align: top;\n",
       "    }\n",
       "\n",
       "    .dataframe thead th {\n",
       "        text-align: right;\n",
       "    }\n",
       "</style>\n",
       "<table border=\"1\" class=\"dataframe\">\n",
       "  <thead>\n",
       "    <tr style=\"text-align: right;\">\n",
       "      <th></th>\n",
       "      <th>Country</th>\n",
       "      <th>Total_Cases</th>\n",
       "      <th>New_Cases</th>\n",
       "      <th>Total_Deaths</th>\n",
       "      <th>New_Deaths</th>\n",
       "      <th>Total_Recovered</th>\n",
       "      <th>Active_Cases</th>\n",
       "      <th>Serious/Critical</th>\n",
       "      <th>Tot_Cases</th>\n",
       "      <th>Deaths</th>\n",
       "      <th>Total_Tests</th>\n",
       "      <th>Tests</th>\n",
       "      <th>Continents</th>\n",
       "    </tr>\n",
       "  </thead>\n",
       "  <tbody>\n",
       "    <tr>\n",
       "      <td>211</td>\n",
       "      <td>Caribbean Netherlands</td>\n",
       "      <td>7</td>\n",
       "      <td>NaN</td>\n",
       "      <td></td>\n",
       "      <td>NaN</td>\n",
       "      <td>7.0</td>\n",
       "      <td>0.0</td>\n",
       "      <td>NaN</td>\n",
       "      <td>267</td>\n",
       "      <td>NaN</td>\n",
       "      <td>424</td>\n",
       "      <td>16,173</td>\n",
       "      <td>North America</td>\n",
       "    </tr>\n",
       "    <tr>\n",
       "      <td>212</td>\n",
       "      <td>St. Barth</td>\n",
       "      <td>6</td>\n",
       "      <td>NaN</td>\n",
       "      <td></td>\n",
       "      <td>NaN</td>\n",
       "      <td>6.0</td>\n",
       "      <td>0.0</td>\n",
       "      <td>NaN</td>\n",
       "      <td>608</td>\n",
       "      <td>NaN</td>\n",
       "      <td>152</td>\n",
       "      <td>15,391</td>\n",
       "      <td>North America</td>\n",
       "    </tr>\n",
       "    <tr>\n",
       "      <td>213</td>\n",
       "      <td>Anguilla</td>\n",
       "      <td>3</td>\n",
       "      <td>NaN</td>\n",
       "      <td></td>\n",
       "      <td>NaN</td>\n",
       "      <td>3.0</td>\n",
       "      <td>0.0</td>\n",
       "      <td>NaN</td>\n",
       "      <td>200</td>\n",
       "      <td>NaN</td>\n",
       "      <td>93</td>\n",
       "      <td>6,200</td>\n",
       "      <td>North America</td>\n",
       "    </tr>\n",
       "    <tr>\n",
       "      <td>214</td>\n",
       "      <td>Saint Pierre Miquelon</td>\n",
       "      <td>1</td>\n",
       "      <td>NaN</td>\n",
       "      <td></td>\n",
       "      <td>NaN</td>\n",
       "      <td>1.0</td>\n",
       "      <td>0.0</td>\n",
       "      <td>NaN</td>\n",
       "      <td>173</td>\n",
       "      <td>NaN</td>\n",
       "      <td>NaN</td>\n",
       "      <td>NaN</td>\n",
       "      <td>North America</td>\n",
       "    </tr>\n",
       "    <tr>\n",
       "      <td>215</td>\n",
       "      <td>China</td>\n",
       "      <td>83396</td>\n",
       "      <td>18</td>\n",
       "      <td>4634</td>\n",
       "      <td>NaN</td>\n",
       "      <td>78413.0</td>\n",
       "      <td>349.0</td>\n",
       "      <td>10.0</td>\n",
       "      <td>58</td>\n",
       "      <td>3</td>\n",
       "      <td>NaN</td>\n",
       "      <td>NaN</td>\n",
       "      <td>Asia</td>\n",
       "    </tr>\n",
       "  </tbody>\n",
       "</table>\n",
       "</div>"
      ],
      "text/plain": [
       "                   Country  Total_Cases New_Cases Total_Deaths New_Deaths  \\\n",
       "211  Caribbean Netherlands            7       NaN                     NaN   \n",
       "212              St. Barth            6       NaN                     NaN   \n",
       "213               Anguilla            3       NaN                     NaN   \n",
       "214  Saint Pierre Miquelon            1       NaN                     NaN   \n",
       "215                  China        83396        18        4634         NaN   \n",
       "\n",
       "     Total_Recovered  Active_Cases  Serious/Critical Tot_Cases Deaths  \\\n",
       "211              7.0           0.0               NaN       267    NaN   \n",
       "212              6.0           0.0               NaN       608    NaN   \n",
       "213              3.0           0.0               NaN       200    NaN   \n",
       "214              1.0           0.0               NaN       173    NaN   \n",
       "215          78413.0         349.0              10.0        58      3   \n",
       "\n",
       "    Total_Tests   Tests     Continents  \n",
       "211         424  16,173  North America  \n",
       "212         152  15,391  North America  \n",
       "213          93   6,200  North America  \n",
       "214         NaN     NaN  North America  \n",
       "215         NaN     NaN           Asia  "
      ]
     },
     "execution_count": 3,
     "metadata": {},
     "output_type": "execute_result"
    }
   ],
   "source": [
    "corona_response.tail()"
   ]
  },
  {
   "cell_type": "code",
   "execution_count": 4,
   "metadata": {},
   "outputs": [
    {
     "data": {
      "text/plain": [
       "(216, 13)"
      ]
     },
     "execution_count": 4,
     "metadata": {},
     "output_type": "execute_result"
    }
   ],
   "source": [
    "corona_response.shape"
   ]
  },
  {
   "cell_type": "code",
   "execution_count": 5,
   "metadata": {},
   "outputs": [
    {
     "data": {
      "text/html": [
       "<div>\n",
       "<style scoped>\n",
       "    .dataframe tbody tr th:only-of-type {\n",
       "        vertical-align: middle;\n",
       "    }\n",
       "\n",
       "    .dataframe tbody tr th {\n",
       "        vertical-align: top;\n",
       "    }\n",
       "\n",
       "    .dataframe thead th {\n",
       "        text-align: right;\n",
       "    }\n",
       "</style>\n",
       "<table border=\"1\" class=\"dataframe\">\n",
       "  <thead>\n",
       "    <tr style=\"text-align: right;\">\n",
       "      <th></th>\n",
       "      <th>Total_Cases</th>\n",
       "      <th>Total_Recovered</th>\n",
       "      <th>Active_Cases</th>\n",
       "      <th>Serious/Critical</th>\n",
       "    </tr>\n",
       "  </thead>\n",
       "  <tbody>\n",
       "    <tr>\n",
       "      <td>count</td>\n",
       "      <td>2.160000e+02</td>\n",
       "      <td>2.110000e+02</td>\n",
       "      <td>2.120000e+02</td>\n",
       "      <td>132.000000</td>\n",
       "    </tr>\n",
       "    <tr>\n",
       "      <td>mean</td>\n",
       "      <td>8.396133e+04</td>\n",
       "      <td>4.500278e+04</td>\n",
       "      <td>3.338094e+04</td>\n",
       "      <td>829.393939</td>\n",
       "    </tr>\n",
       "    <tr>\n",
       "      <td>std</td>\n",
       "      <td>6.421554e+05</td>\n",
       "      <td>3.438094e+05</td>\n",
       "      <td>2.729285e+05</td>\n",
       "      <td>5061.856394</td>\n",
       "    </tr>\n",
       "    <tr>\n",
       "      <td>min</td>\n",
       "      <td>1.000000e+00</td>\n",
       "      <td>1.000000e+00</td>\n",
       "      <td>0.000000e+00</td>\n",
       "      <td>1.000000</td>\n",
       "    </tr>\n",
       "    <tr>\n",
       "      <td>25%</td>\n",
       "      <td>2.302500e+02</td>\n",
       "      <td>1.405000e+02</td>\n",
       "      <td>3.500000e+01</td>\n",
       "      <td>2.000000</td>\n",
       "    </tr>\n",
       "    <tr>\n",
       "      <td>50%</td>\n",
       "      <td>1.823000e+03</td>\n",
       "      <td>9.300000e+02</td>\n",
       "      <td>4.365000e+02</td>\n",
       "      <td>10.000000</td>\n",
       "    </tr>\n",
       "    <tr>\n",
       "      <td>75%</td>\n",
       "      <td>1.498525e+04</td>\n",
       "      <td>8.248000e+03</td>\n",
       "      <td>4.461000e+03</td>\n",
       "      <td>102.750000</td>\n",
       "    </tr>\n",
       "    <tr>\n",
       "      <td>max</td>\n",
       "      <td>9.067824e+06</td>\n",
       "      <td>4.850718e+06</td>\n",
       "      <td>3.746066e+06</td>\n",
       "      <td>54740.000000</td>\n",
       "    </tr>\n",
       "  </tbody>\n",
       "</table>\n",
       "</div>"
      ],
      "text/plain": [
       "        Total_Cases  Total_Recovered  Active_Cases  Serious/Critical\n",
       "count  2.160000e+02     2.110000e+02  2.120000e+02        132.000000\n",
       "mean   8.396133e+04     4.500278e+04  3.338094e+04        829.393939\n",
       "std    6.421554e+05     3.438094e+05  2.729285e+05       5061.856394\n",
       "min    1.000000e+00     1.000000e+00  0.000000e+00          1.000000\n",
       "25%    2.302500e+02     1.405000e+02  3.500000e+01          2.000000\n",
       "50%    1.823000e+03     9.300000e+02  4.365000e+02         10.000000\n",
       "75%    1.498525e+04     8.248000e+03  4.461000e+03        102.750000\n",
       "max    9.067824e+06     4.850718e+06  3.746066e+06      54740.000000"
      ]
     },
     "execution_count": 5,
     "metadata": {},
     "output_type": "execute_result"
    }
   ],
   "source": [
    "corona_response.describe()"
   ]
  },
  {
   "cell_type": "code",
   "execution_count": 6,
   "metadata": {},
   "outputs": [
    {
     "name": "stdout",
     "output_type": "stream",
     "text": [
      "<class 'pandas.core.frame.DataFrame'>\n",
      "RangeIndex: 216 entries, 0 to 215\n",
      "Data columns (total 13 columns):\n",
      "Country             216 non-null object\n",
      "Total_Cases         216 non-null int64\n",
      "New_Cases           47 non-null object\n",
      "Total_Deaths        216 non-null object\n",
      "New_Deaths          22 non-null object\n",
      "Total_Recovered     211 non-null float64\n",
      "Active_Cases        212 non-null float64\n",
      "Serious/Critical    132 non-null float64\n",
      "Tot_Cases           214 non-null object\n",
      "Deaths              184 non-null object\n",
      "Total_Tests         191 non-null object\n",
      "Tests               191 non-null object\n",
      "Continents          214 non-null object\n",
      "dtypes: float64(3), int64(1), object(9)\n",
      "memory usage: 22.1+ KB\n"
     ]
    }
   ],
   "source": [
    "corona_response.info()"
   ]
  },
  {
   "cell_type": "code",
   "execution_count": 7,
   "metadata": {},
   "outputs": [
    {
     "data": {
      "text/plain": [
       "0      False\n",
       "1      False\n",
       "2      False\n",
       "3      False\n",
       "4      False\n",
       "       ...  \n",
       "211    False\n",
       "212    False\n",
       "213    False\n",
       "214    False\n",
       "215    False\n",
       "Length: 216, dtype: bool"
      ]
     },
     "execution_count": 7,
     "metadata": {},
     "output_type": "execute_result"
    }
   ],
   "source": [
    "# checking for duplicated values\n",
    "corona_response.duplicated()"
   ]
  },
  {
   "cell_type": "code",
   "execution_count": 8,
   "metadata": {},
   "outputs": [
    {
     "data": {
      "text/plain": [
       "Africa               57\n",
       "Asia                 49\n",
       "Europe               48\n",
       "North America        39\n",
       "South America        14\n",
       "Australia/Oceania     6\n",
       "All                   1\n",
       "Name: Continents, dtype: int64"
      ]
     },
     "execution_count": 8,
     "metadata": {},
     "output_type": "execute_result"
    }
   ],
   "source": [
    "corona_response['Continents'].value_counts()"
   ]
  },
  {
   "cell_type": "code",
   "execution_count": 9,
   "metadata": {},
   "outputs": [
    {
     "data": {
      "text/plain": [
       "Country             China\n",
       "Total_Cases         83396\n",
       "New_Cases              18\n",
       "Total_Deaths        4634 \n",
       "New_Deaths            NaN\n",
       "Total_Recovered     78413\n",
       "Active_Cases          349\n",
       "Serious/Critical       10\n",
       "Tot_Cases              58\n",
       "Deaths                  3\n",
       "Total_Tests           NaN\n",
       "Tests                 NaN\n",
       "Continents           Asia\n",
       "Name: 215, dtype: object"
      ]
     },
     "execution_count": 9,
     "metadata": {},
     "output_type": "execute_result"
    }
   ],
   "source": [
    "corona_response.iloc[215,:]\n"
   ]
  },
  {
   "cell_type": "code",
   "execution_count": 10,
   "metadata": {},
   "outputs": [
    {
     "data": {
      "text/plain": [
       "Continents\n",
       "Africa               5.430228e+03\n",
       "All                  9.067824e+06\n",
       "Asia                 3.904433e+04\n",
       "Australia/Oceania    1.515667e+03\n",
       "Europe               4.833019e+04\n",
       "North America        7.014346e+04\n",
       "South America        1.271336e+05\n",
       "Name: Total_Cases, dtype: float64"
      ]
     },
     "execution_count": 10,
     "metadata": {},
     "output_type": "execute_result"
    }
   ],
   "source": [
    "\n",
    "corona_response.groupby('Continents')['Total_Cases'].mean()"
   ]
  },
  {
   "cell_type": "code",
   "execution_count": 11,
   "metadata": {},
   "outputs": [],
   "source": [
    "continent_frame =corona_response.set_index(['Continents']) "
   ]
  },
  {
   "cell_type": "code",
   "execution_count": 12,
   "metadata": {},
   "outputs": [
    {
     "data": {
      "text/html": [
       "<div>\n",
       "<style scoped>\n",
       "    .dataframe tbody tr th:only-of-type {\n",
       "        vertical-align: middle;\n",
       "    }\n",
       "\n",
       "    .dataframe tbody tr th {\n",
       "        vertical-align: top;\n",
       "    }\n",
       "\n",
       "    .dataframe thead th {\n",
       "        text-align: right;\n",
       "    }\n",
       "</style>\n",
       "<table border=\"1\" class=\"dataframe\">\n",
       "  <thead>\n",
       "    <tr style=\"text-align: right;\">\n",
       "      <th></th>\n",
       "      <th>Country</th>\n",
       "      <th>Total_Cases</th>\n",
       "      <th>New_Cases</th>\n",
       "      <th>Total_Deaths</th>\n",
       "      <th>New_Deaths</th>\n",
       "      <th>Total_Recovered</th>\n",
       "      <th>Active_Cases</th>\n",
       "      <th>Serious/Critical</th>\n",
       "      <th>Tot_Cases</th>\n",
       "      <th>Deaths</th>\n",
       "      <th>Total_Tests</th>\n",
       "      <th>Tests</th>\n",
       "    </tr>\n",
       "    <tr>\n",
       "      <th>Continents</th>\n",
       "      <th></th>\n",
       "      <th></th>\n",
       "      <th></th>\n",
       "      <th></th>\n",
       "      <th></th>\n",
       "      <th></th>\n",
       "      <th></th>\n",
       "      <th></th>\n",
       "      <th></th>\n",
       "      <th></th>\n",
       "      <th></th>\n",
       "      <th></th>\n",
       "    </tr>\n",
       "  </thead>\n",
       "  <tbody>\n",
       "    <tr>\n",
       "      <td>All</td>\n",
       "      <td>World</td>\n",
       "      <td>9067824</td>\n",
       "      <td>28,887</td>\n",
       "      <td>471040</td>\n",
       "      <td>1,436</td>\n",
       "      <td>4850718.0</td>\n",
       "      <td>3746066.0</td>\n",
       "      <td>54740.0</td>\n",
       "      <td>1,163</td>\n",
       "      <td>60.4</td>\n",
       "      <td>NaN</td>\n",
       "      <td>NaN</td>\n",
       "    </tr>\n",
       "    <tr>\n",
       "      <td>North America</td>\n",
       "      <td>USA</td>\n",
       "      <td>2356715</td>\n",
       "      <td>58</td>\n",
       "      <td>122248</td>\n",
       "      <td>1</td>\n",
       "      <td>980367.0</td>\n",
       "      <td>1254100.0</td>\n",
       "      <td>16477.0</td>\n",
       "      <td>7,121</td>\n",
       "      <td>369</td>\n",
       "      <td>28,492,770</td>\n",
       "      <td>86,093</td>\n",
       "    </tr>\n",
       "    <tr>\n",
       "      <td>South America</td>\n",
       "      <td>Brazil</td>\n",
       "      <td>1086990</td>\n",
       "      <td>NaN</td>\n",
       "      <td>50659</td>\n",
       "      <td>NaN</td>\n",
       "      <td>579226.0</td>\n",
       "      <td>457105.0</td>\n",
       "      <td>8318.0</td>\n",
       "      <td>5,115</td>\n",
       "      <td>238</td>\n",
       "      <td>2,430,347</td>\n",
       "      <td>11,436</td>\n",
       "    </tr>\n",
       "    <tr>\n",
       "      <td>Europe</td>\n",
       "      <td>Russia</td>\n",
       "      <td>592280</td>\n",
       "      <td>7,600</td>\n",
       "      <td>8206</td>\n",
       "      <td>95</td>\n",
       "      <td>344416.0</td>\n",
       "      <td>239658.0</td>\n",
       "      <td>2300.0</td>\n",
       "      <td>4,059</td>\n",
       "      <td>56</td>\n",
       "      <td>17,200,000</td>\n",
       "      <td>117,862</td>\n",
       "    </tr>\n",
       "    <tr>\n",
       "      <td>Asia</td>\n",
       "      <td>India</td>\n",
       "      <td>426910</td>\n",
       "      <td>NaN</td>\n",
       "      <td>13703</td>\n",
       "      <td>NaN</td>\n",
       "      <td>237252.0</td>\n",
       "      <td>175955.0</td>\n",
       "      <td>8944.0</td>\n",
       "      <td>309</td>\n",
       "      <td>10</td>\n",
       "      <td>6,950,493</td>\n",
       "      <td>5,038</td>\n",
       "    </tr>\n",
       "  </tbody>\n",
       "</table>\n",
       "</div>"
      ],
      "text/plain": [
       "              Country  Total_Cases New_Cases Total_Deaths New_Deaths  \\\n",
       "Continents                                                             \n",
       "All             World      9067824    28,887       471040      1,436   \n",
       "North America     USA      2356715        58      122248           1   \n",
       "South America  Brazil      1086990       NaN       50659         NaN   \n",
       "Europe         Russia       592280     7,600        8206          95   \n",
       "Asia            India       426910       NaN       13703         NaN   \n",
       "\n",
       "               Total_Recovered  Active_Cases  Serious/Critical Tot_Cases  \\\n",
       "Continents                                                                 \n",
       "All                  4850718.0     3746066.0           54740.0     1,163   \n",
       "North America         980367.0     1254100.0           16477.0     7,121   \n",
       "South America         579226.0      457105.0            8318.0     5,115   \n",
       "Europe                344416.0      239658.0            2300.0     4,059   \n",
       "Asia                  237252.0      175955.0            8944.0       309   \n",
       "\n",
       "              Deaths Total_Tests    Tests  \n",
       "Continents                                 \n",
       "All             60.4         NaN      NaN  \n",
       "North America    369  28,492,770   86,093  \n",
       "South America    238   2,430,347   11,436  \n",
       "Europe            56  17,200,000  117,862  \n",
       "Asia              10   6,950,493    5,038  "
      ]
     },
     "execution_count": 12,
     "metadata": {},
     "output_type": "execute_result"
    }
   ],
   "source": [
    "continent_frame.head()"
   ]
  },
  {
   "cell_type": "markdown",
   "metadata": {},
   "source": [
    "# Dealing with missing values"
   ]
  },
  {
   "cell_type": "code",
   "execution_count": 13,
   "metadata": {},
   "outputs": [
    {
     "data": {
      "text/plain": [
       "(216, 13)"
      ]
     },
     "execution_count": 13,
     "metadata": {},
     "output_type": "execute_result"
    }
   ],
   "source": [
    "corona_response.shape"
   ]
  },
  {
   "cell_type": "code",
   "execution_count": 14,
   "metadata": {},
   "outputs": [
    {
     "data": {
      "text/html": [
       "<div>\n",
       "<style scoped>\n",
       "    .dataframe tbody tr th:only-of-type {\n",
       "        vertical-align: middle;\n",
       "    }\n",
       "\n",
       "    .dataframe tbody tr th {\n",
       "        vertical-align: top;\n",
       "    }\n",
       "\n",
       "    .dataframe thead th {\n",
       "        text-align: right;\n",
       "    }\n",
       "</style>\n",
       "<table border=\"1\" class=\"dataframe\">\n",
       "  <thead>\n",
       "    <tr style=\"text-align: right;\">\n",
       "      <th></th>\n",
       "      <th>Country</th>\n",
       "      <th>Total_Cases</th>\n",
       "      <th>New_Cases</th>\n",
       "      <th>Total_Deaths</th>\n",
       "      <th>New_Deaths</th>\n",
       "      <th>Total_Recovered</th>\n",
       "      <th>Active_Cases</th>\n",
       "      <th>Serious/Critical</th>\n",
       "      <th>Tot_Cases</th>\n",
       "      <th>Deaths</th>\n",
       "      <th>Total_Tests</th>\n",
       "      <th>Tests</th>\n",
       "      <th>Continents</th>\n",
       "    </tr>\n",
       "  </thead>\n",
       "  <tbody>\n",
       "    <tr>\n",
       "      <td>0</td>\n",
       "      <td>False</td>\n",
       "      <td>False</td>\n",
       "      <td>False</td>\n",
       "      <td>False</td>\n",
       "      <td>False</td>\n",
       "      <td>False</td>\n",
       "      <td>False</td>\n",
       "      <td>False</td>\n",
       "      <td>False</td>\n",
       "      <td>False</td>\n",
       "      <td>True</td>\n",
       "      <td>True</td>\n",
       "      <td>False</td>\n",
       "    </tr>\n",
       "    <tr>\n",
       "      <td>1</td>\n",
       "      <td>False</td>\n",
       "      <td>False</td>\n",
       "      <td>False</td>\n",
       "      <td>False</td>\n",
       "      <td>False</td>\n",
       "      <td>False</td>\n",
       "      <td>False</td>\n",
       "      <td>False</td>\n",
       "      <td>False</td>\n",
       "      <td>False</td>\n",
       "      <td>False</td>\n",
       "      <td>False</td>\n",
       "      <td>False</td>\n",
       "    </tr>\n",
       "    <tr>\n",
       "      <td>2</td>\n",
       "      <td>False</td>\n",
       "      <td>False</td>\n",
       "      <td>True</td>\n",
       "      <td>False</td>\n",
       "      <td>True</td>\n",
       "      <td>False</td>\n",
       "      <td>False</td>\n",
       "      <td>False</td>\n",
       "      <td>False</td>\n",
       "      <td>False</td>\n",
       "      <td>False</td>\n",
       "      <td>False</td>\n",
       "      <td>False</td>\n",
       "    </tr>\n",
       "    <tr>\n",
       "      <td>3</td>\n",
       "      <td>False</td>\n",
       "      <td>False</td>\n",
       "      <td>False</td>\n",
       "      <td>False</td>\n",
       "      <td>False</td>\n",
       "      <td>False</td>\n",
       "      <td>False</td>\n",
       "      <td>False</td>\n",
       "      <td>False</td>\n",
       "      <td>False</td>\n",
       "      <td>False</td>\n",
       "      <td>False</td>\n",
       "      <td>False</td>\n",
       "    </tr>\n",
       "    <tr>\n",
       "      <td>4</td>\n",
       "      <td>False</td>\n",
       "      <td>False</td>\n",
       "      <td>True</td>\n",
       "      <td>False</td>\n",
       "      <td>True</td>\n",
       "      <td>False</td>\n",
       "      <td>False</td>\n",
       "      <td>False</td>\n",
       "      <td>False</td>\n",
       "      <td>False</td>\n",
       "      <td>False</td>\n",
       "      <td>False</td>\n",
       "      <td>False</td>\n",
       "    </tr>\n",
       "    <tr>\n",
       "      <td>...</td>\n",
       "      <td>...</td>\n",
       "      <td>...</td>\n",
       "      <td>...</td>\n",
       "      <td>...</td>\n",
       "      <td>...</td>\n",
       "      <td>...</td>\n",
       "      <td>...</td>\n",
       "      <td>...</td>\n",
       "      <td>...</td>\n",
       "      <td>...</td>\n",
       "      <td>...</td>\n",
       "      <td>...</td>\n",
       "      <td>...</td>\n",
       "    </tr>\n",
       "    <tr>\n",
       "      <td>211</td>\n",
       "      <td>False</td>\n",
       "      <td>False</td>\n",
       "      <td>True</td>\n",
       "      <td>False</td>\n",
       "      <td>True</td>\n",
       "      <td>False</td>\n",
       "      <td>False</td>\n",
       "      <td>True</td>\n",
       "      <td>False</td>\n",
       "      <td>True</td>\n",
       "      <td>False</td>\n",
       "      <td>False</td>\n",
       "      <td>False</td>\n",
       "    </tr>\n",
       "    <tr>\n",
       "      <td>212</td>\n",
       "      <td>False</td>\n",
       "      <td>False</td>\n",
       "      <td>True</td>\n",
       "      <td>False</td>\n",
       "      <td>True</td>\n",
       "      <td>False</td>\n",
       "      <td>False</td>\n",
       "      <td>True</td>\n",
       "      <td>False</td>\n",
       "      <td>True</td>\n",
       "      <td>False</td>\n",
       "      <td>False</td>\n",
       "      <td>False</td>\n",
       "    </tr>\n",
       "    <tr>\n",
       "      <td>213</td>\n",
       "      <td>False</td>\n",
       "      <td>False</td>\n",
       "      <td>True</td>\n",
       "      <td>False</td>\n",
       "      <td>True</td>\n",
       "      <td>False</td>\n",
       "      <td>False</td>\n",
       "      <td>True</td>\n",
       "      <td>False</td>\n",
       "      <td>True</td>\n",
       "      <td>False</td>\n",
       "      <td>False</td>\n",
       "      <td>False</td>\n",
       "    </tr>\n",
       "    <tr>\n",
       "      <td>214</td>\n",
       "      <td>False</td>\n",
       "      <td>False</td>\n",
       "      <td>True</td>\n",
       "      <td>False</td>\n",
       "      <td>True</td>\n",
       "      <td>False</td>\n",
       "      <td>False</td>\n",
       "      <td>True</td>\n",
       "      <td>False</td>\n",
       "      <td>True</td>\n",
       "      <td>True</td>\n",
       "      <td>True</td>\n",
       "      <td>False</td>\n",
       "    </tr>\n",
       "    <tr>\n",
       "      <td>215</td>\n",
       "      <td>False</td>\n",
       "      <td>False</td>\n",
       "      <td>False</td>\n",
       "      <td>False</td>\n",
       "      <td>True</td>\n",
       "      <td>False</td>\n",
       "      <td>False</td>\n",
       "      <td>False</td>\n",
       "      <td>False</td>\n",
       "      <td>False</td>\n",
       "      <td>True</td>\n",
       "      <td>True</td>\n",
       "      <td>False</td>\n",
       "    </tr>\n",
       "  </tbody>\n",
       "</table>\n",
       "<p>216 rows × 13 columns</p>\n",
       "</div>"
      ],
      "text/plain": [
       "     Country  Total_Cases  New_Cases  Total_Deaths  New_Deaths  \\\n",
       "0      False        False      False         False       False   \n",
       "1      False        False      False         False       False   \n",
       "2      False        False       True         False        True   \n",
       "3      False        False      False         False       False   \n",
       "4      False        False       True         False        True   \n",
       "..       ...          ...        ...           ...         ...   \n",
       "211    False        False       True         False        True   \n",
       "212    False        False       True         False        True   \n",
       "213    False        False       True         False        True   \n",
       "214    False        False       True         False        True   \n",
       "215    False        False      False         False        True   \n",
       "\n",
       "     Total_Recovered  Active_Cases  Serious/Critical  Tot_Cases  Deaths  \\\n",
       "0              False         False             False      False   False   \n",
       "1              False         False             False      False   False   \n",
       "2              False         False             False      False   False   \n",
       "3              False         False             False      False   False   \n",
       "4              False         False             False      False   False   \n",
       "..               ...           ...               ...        ...     ...   \n",
       "211            False         False              True      False    True   \n",
       "212            False         False              True      False    True   \n",
       "213            False         False              True      False    True   \n",
       "214            False         False              True      False    True   \n",
       "215            False         False             False      False   False   \n",
       "\n",
       "     Total_Tests  Tests  Continents  \n",
       "0           True   True       False  \n",
       "1          False  False       False  \n",
       "2          False  False       False  \n",
       "3          False  False       False  \n",
       "4          False  False       False  \n",
       "..           ...    ...         ...  \n",
       "211        False  False       False  \n",
       "212        False  False       False  \n",
       "213        False  False       False  \n",
       "214         True   True       False  \n",
       "215         True   True       False  \n",
       "\n",
       "[216 rows x 13 columns]"
      ]
     },
     "execution_count": 14,
     "metadata": {},
     "output_type": "execute_result"
    }
   ],
   "source": [
    "corona_response.isnull()\n",
    "# several columns have missing values"
   ]
  },
  {
   "cell_type": "code",
   "execution_count": 15,
   "metadata": {},
   "outputs": [
    {
     "data": {
      "text/plain": [
       "Int64Index([], dtype='int64')"
      ]
     },
     "execution_count": 15,
     "metadata": {},
     "output_type": "execute_result"
    }
   ],
   "source": [
    "corona_response[corona_response['Total_Deaths']==''].index\n",
    "# shows the existence of several white spaces"
   ]
  },
  {
   "cell_type": "code",
   "execution_count": 16,
   "metadata": {},
   "outputs": [],
   "source": [
    "response =corona_response.replace(r'^\\s*$',np.nan,regex=True)\n",
    "# replacing whitespaces with Nan this data is easier to work with compared to whitespaces as empty data"
   ]
  },
  {
   "cell_type": "code",
   "execution_count": 17,
   "metadata": {},
   "outputs": [
    {
     "data": {
      "text/html": [
       "<div>\n",
       "<style scoped>\n",
       "    .dataframe tbody tr th:only-of-type {\n",
       "        vertical-align: middle;\n",
       "    }\n",
       "\n",
       "    .dataframe tbody tr th {\n",
       "        vertical-align: top;\n",
       "    }\n",
       "\n",
       "    .dataframe thead th {\n",
       "        text-align: right;\n",
       "    }\n",
       "</style>\n",
       "<table border=\"1\" class=\"dataframe\">\n",
       "  <thead>\n",
       "    <tr style=\"text-align: right;\">\n",
       "      <th></th>\n",
       "      <th>Country</th>\n",
       "      <th>Total_Cases</th>\n",
       "      <th>New_Cases</th>\n",
       "      <th>Total_Deaths</th>\n",
       "      <th>New_Deaths</th>\n",
       "      <th>Total_Recovered</th>\n",
       "      <th>Active_Cases</th>\n",
       "      <th>Serious/Critical</th>\n",
       "      <th>Tot_Cases</th>\n",
       "      <th>Deaths</th>\n",
       "      <th>Total_Tests</th>\n",
       "      <th>Tests</th>\n",
       "      <th>Continents</th>\n",
       "    </tr>\n",
       "  </thead>\n",
       "  <tbody>\n",
       "    <tr>\n",
       "      <td>0</td>\n",
       "      <td>World</td>\n",
       "      <td>9067824</td>\n",
       "      <td>28,887</td>\n",
       "      <td>471040</td>\n",
       "      <td>1,436</td>\n",
       "      <td>4850718.0</td>\n",
       "      <td>3746066.0</td>\n",
       "      <td>54740.0</td>\n",
       "      <td>1,163</td>\n",
       "      <td>60.4</td>\n",
       "      <td>NaN</td>\n",
       "      <td>NaN</td>\n",
       "      <td>All</td>\n",
       "    </tr>\n",
       "    <tr>\n",
       "      <td>1</td>\n",
       "      <td>USA</td>\n",
       "      <td>2356715</td>\n",
       "      <td>58</td>\n",
       "      <td>122248</td>\n",
       "      <td>1</td>\n",
       "      <td>980367.0</td>\n",
       "      <td>1254100.0</td>\n",
       "      <td>16477.0</td>\n",
       "      <td>7,121</td>\n",
       "      <td>369</td>\n",
       "      <td>28,492,770</td>\n",
       "      <td>86,093</td>\n",
       "      <td>North America</td>\n",
       "    </tr>\n",
       "    <tr>\n",
       "      <td>2</td>\n",
       "      <td>Brazil</td>\n",
       "      <td>1086990</td>\n",
       "      <td>NaN</td>\n",
       "      <td>50659</td>\n",
       "      <td>NaN</td>\n",
       "      <td>579226.0</td>\n",
       "      <td>457105.0</td>\n",
       "      <td>8318.0</td>\n",
       "      <td>5,115</td>\n",
       "      <td>238</td>\n",
       "      <td>2,430,347</td>\n",
       "      <td>11,436</td>\n",
       "      <td>South America</td>\n",
       "    </tr>\n",
       "    <tr>\n",
       "      <td>3</td>\n",
       "      <td>Russia</td>\n",
       "      <td>592280</td>\n",
       "      <td>7,600</td>\n",
       "      <td>8206</td>\n",
       "      <td>95</td>\n",
       "      <td>344416.0</td>\n",
       "      <td>239658.0</td>\n",
       "      <td>2300.0</td>\n",
       "      <td>4,059</td>\n",
       "      <td>56</td>\n",
       "      <td>17,200,000</td>\n",
       "      <td>117,862</td>\n",
       "      <td>Europe</td>\n",
       "    </tr>\n",
       "    <tr>\n",
       "      <td>4</td>\n",
       "      <td>India</td>\n",
       "      <td>426910</td>\n",
       "      <td>NaN</td>\n",
       "      <td>13703</td>\n",
       "      <td>NaN</td>\n",
       "      <td>237252.0</td>\n",
       "      <td>175955.0</td>\n",
       "      <td>8944.0</td>\n",
       "      <td>309</td>\n",
       "      <td>10</td>\n",
       "      <td>6,950,493</td>\n",
       "      <td>5,038</td>\n",
       "      <td>Asia</td>\n",
       "    </tr>\n",
       "    <tr>\n",
       "      <td>...</td>\n",
       "      <td>...</td>\n",
       "      <td>...</td>\n",
       "      <td>...</td>\n",
       "      <td>...</td>\n",
       "      <td>...</td>\n",
       "      <td>...</td>\n",
       "      <td>...</td>\n",
       "      <td>...</td>\n",
       "      <td>...</td>\n",
       "      <td>...</td>\n",
       "      <td>...</td>\n",
       "      <td>...</td>\n",
       "      <td>...</td>\n",
       "    </tr>\n",
       "    <tr>\n",
       "      <td>211</td>\n",
       "      <td>Caribbean Netherlands</td>\n",
       "      <td>7</td>\n",
       "      <td>NaN</td>\n",
       "      <td>NaN</td>\n",
       "      <td>NaN</td>\n",
       "      <td>7.0</td>\n",
       "      <td>0.0</td>\n",
       "      <td>NaN</td>\n",
       "      <td>267</td>\n",
       "      <td>NaN</td>\n",
       "      <td>424</td>\n",
       "      <td>16,173</td>\n",
       "      <td>North America</td>\n",
       "    </tr>\n",
       "    <tr>\n",
       "      <td>212</td>\n",
       "      <td>St. Barth</td>\n",
       "      <td>6</td>\n",
       "      <td>NaN</td>\n",
       "      <td>NaN</td>\n",
       "      <td>NaN</td>\n",
       "      <td>6.0</td>\n",
       "      <td>0.0</td>\n",
       "      <td>NaN</td>\n",
       "      <td>608</td>\n",
       "      <td>NaN</td>\n",
       "      <td>152</td>\n",
       "      <td>15,391</td>\n",
       "      <td>North America</td>\n",
       "    </tr>\n",
       "    <tr>\n",
       "      <td>213</td>\n",
       "      <td>Anguilla</td>\n",
       "      <td>3</td>\n",
       "      <td>NaN</td>\n",
       "      <td>NaN</td>\n",
       "      <td>NaN</td>\n",
       "      <td>3.0</td>\n",
       "      <td>0.0</td>\n",
       "      <td>NaN</td>\n",
       "      <td>200</td>\n",
       "      <td>NaN</td>\n",
       "      <td>93</td>\n",
       "      <td>6,200</td>\n",
       "      <td>North America</td>\n",
       "    </tr>\n",
       "    <tr>\n",
       "      <td>214</td>\n",
       "      <td>Saint Pierre Miquelon</td>\n",
       "      <td>1</td>\n",
       "      <td>NaN</td>\n",
       "      <td>NaN</td>\n",
       "      <td>NaN</td>\n",
       "      <td>1.0</td>\n",
       "      <td>0.0</td>\n",
       "      <td>NaN</td>\n",
       "      <td>173</td>\n",
       "      <td>NaN</td>\n",
       "      <td>NaN</td>\n",
       "      <td>NaN</td>\n",
       "      <td>North America</td>\n",
       "    </tr>\n",
       "    <tr>\n",
       "      <td>215</td>\n",
       "      <td>China</td>\n",
       "      <td>83396</td>\n",
       "      <td>18</td>\n",
       "      <td>4634</td>\n",
       "      <td>NaN</td>\n",
       "      <td>78413.0</td>\n",
       "      <td>349.0</td>\n",
       "      <td>10.0</td>\n",
       "      <td>58</td>\n",
       "      <td>3</td>\n",
       "      <td>NaN</td>\n",
       "      <td>NaN</td>\n",
       "      <td>Asia</td>\n",
       "    </tr>\n",
       "  </tbody>\n",
       "</table>\n",
       "<p>216 rows × 13 columns</p>\n",
       "</div>"
      ],
      "text/plain": [
       "                   Country  Total_Cases New_Cases Total_Deaths New_Deaths  \\\n",
       "0                    World      9067824    28,887       471040      1,436   \n",
       "1                      USA      2356715        58      122248           1   \n",
       "2                   Brazil      1086990       NaN       50659         NaN   \n",
       "3                   Russia       592280     7,600        8206          95   \n",
       "4                    India       426910       NaN       13703         NaN   \n",
       "..                     ...          ...       ...          ...        ...   \n",
       "211  Caribbean Netherlands            7       NaN          NaN        NaN   \n",
       "212              St. Barth            6       NaN          NaN        NaN   \n",
       "213               Anguilla            3       NaN          NaN        NaN   \n",
       "214  Saint Pierre Miquelon            1       NaN          NaN        NaN   \n",
       "215                  China        83396        18        4634         NaN   \n",
       "\n",
       "     Total_Recovered  Active_Cases  Serious/Critical Tot_Cases Deaths  \\\n",
       "0          4850718.0     3746066.0           54740.0     1,163   60.4   \n",
       "1           980367.0     1254100.0           16477.0     7,121    369   \n",
       "2           579226.0      457105.0            8318.0     5,115    238   \n",
       "3           344416.0      239658.0            2300.0     4,059     56   \n",
       "4           237252.0      175955.0            8944.0       309     10   \n",
       "..               ...           ...               ...       ...    ...   \n",
       "211              7.0           0.0               NaN       267    NaN   \n",
       "212              6.0           0.0               NaN       608    NaN   \n",
       "213              3.0           0.0               NaN       200    NaN   \n",
       "214              1.0           0.0               NaN       173    NaN   \n",
       "215          78413.0         349.0              10.0        58      3   \n",
       "\n",
       "    Total_Tests    Tests     Continents  \n",
       "0           NaN      NaN            All  \n",
       "1    28,492,770   86,093  North America  \n",
       "2     2,430,347   11,436  South America  \n",
       "3    17,200,000  117,862         Europe  \n",
       "4     6,950,493    5,038           Asia  \n",
       "..          ...      ...            ...  \n",
       "211         424   16,173  North America  \n",
       "212         152   15,391  North America  \n",
       "213          93    6,200  North America  \n",
       "214         NaN      NaN  North America  \n",
       "215         NaN      NaN           Asia  \n",
       "\n",
       "[216 rows x 13 columns]"
      ]
     },
     "execution_count": 17,
     "metadata": {},
     "output_type": "execute_result"
    }
   ],
   "source": [
    "response"
   ]
  },
  {
   "cell_type": "markdown",
   "metadata": {},
   "source": [
    "# Data Visualization to gather insights"
   ]
  },
  {
   "cell_type": "markdown",
   "metadata": {},
   "source": [
    "# working with the total cases and their distribution among the continents"
   ]
  },
  {
   "cell_type": "code",
   "execution_count": 18,
   "metadata": {},
   "outputs": [
    {
     "data": {
      "text/plain": [
       "0"
      ]
     },
     "execution_count": 18,
     "metadata": {},
     "output_type": "execute_result"
    }
   ],
   "source": [
    "response[\"Total_Cases\"].isnull().sum()\n",
    "# clean data no missing values"
   ]
  },
  {
   "cell_type": "code",
   "execution_count": 19,
   "metadata": {},
   "outputs": [
    {
     "data": {
      "text/plain": [
       "<matplotlib.axes._subplots.AxesSubplot at 0x15d8767e308>"
      ]
     },
     "execution_count": 19,
     "metadata": {},
     "output_type": "execute_result"
    },
    {
     "data": {
      "image/png": "[encoded data removed]",
      "text/plain": [
       "<Figure size 432x288 with 1 Axes>"
      ]
     },
     "metadata": {
      "needs_background": "light"
     },
     "output_type": "display_data"
    }
   ],
   "source": [
    "sns.barplot(x='Total_Cases',y= 'Continents', data = response)"
   ]
  },
  {
   "cell_type": "code",
   "execution_count": 20,
   "metadata": {},
   "outputs": [],
   "source": [
    "# removing the outliers (world all data) to get clear total_cases data distributiion in the different continents \n",
    "cases_data = response[corona_response[\"Total_Cases\"] <= 2000000]\n"
   ]
  },
  {
   "cell_type": "code",
   "execution_count": 21,
   "metadata": {},
   "outputs": [
    {
     "data": {
      "text/plain": [
       "<matplotlib.axes._subplots.AxesSubplot at 0x15d879d30c8>"
      ]
     },
     "execution_count": 21,
     "metadata": {},
     "output_type": "execute_result"
    },
    {
     "data": {
      "image/png": "[encoded data removed]",
      "text/plain": [
       "<Figure size 432x288 with 1 Axes>"
      ]
     },
     "metadata": {
      "needs_background": "light"
     },
     "output_type": "display_data"
    }
   ],
   "source": [
    "sns.barplot(x='Total_Cases',y= 'Continents', data = cases_data)"
   ]
  },
  {
   "cell_type": "markdown",
   "metadata": {},
   "source": [
    "# Active_Cases around the globe"
   ]
  },
  {
   "cell_type": "code",
   "execution_count": 22,
   "metadata": {},
   "outputs": [
    {
     "data": {
      "text/plain": [
       "4"
      ]
     },
     "execution_count": 22,
     "metadata": {},
     "output_type": "execute_result"
    }
   ],
   "source": [
    "corona_response[\"Active_Cases\"].isnull().sum()\n",
    "# missing data"
   ]
  },
  {
   "cell_type": "code",
   "execution_count": 23,
   "metadata": {},
   "outputs": [
    {
     "data": {
      "text/plain": [
       "<matplotlib.axes._subplots.AxesSubplot at 0x15d87a6a2c8>"
      ]
     },
     "execution_count": 23,
     "metadata": {},
     "output_type": "execute_result"
    },
    {
     "data": {
      "image/png": "[encoded data removed]",
      "text/plain": [
       "<Figure size 432x288 with 1 Axes>"
      ]
     },
     "metadata": {
      "needs_background": "light"
     },
     "output_type": "display_data"
    }
   ],
   "source": [
    "sns.barplot(x='Active_Cases',y='Continents', data=corona_response)"
   ]
  },
  {
   "cell_type": "code",
   "execution_count": 24,
   "metadata": {},
   "outputs": [],
   "source": [
    "# removing the  (world all data) to get clear total_cases data distributiion in the different continents \n",
    "active_data = response[response[\"Active_Cases\"] <= 500000]\n"
   ]
  },
  {
   "cell_type": "code",
   "execution_count": 25,
   "metadata": {},
   "outputs": [
    {
     "data": {
      "text/plain": [
       "<matplotlib.axes._subplots.AxesSubplot at 0x15d87ae36c8>"
      ]
     },
     "execution_count": 25,
     "metadata": {},
     "output_type": "execute_result"
    },
    {
     "data": {
      "image/png": "[encoded data removed]",
      "text/plain": [
       "<Figure size 432x288 with 1 Axes>"
      ]
     },
     "metadata": {
      "needs_background": "light"
     },
     "output_type": "display_data"
    }
   ],
   "source": [
    "sns.barplot(x='Active_Cases',y= 'Continents', data = active_data)"
   ]
  },
  {
   "cell_type": "markdown",
   "metadata": {},
   "source": [
    "# Total_recovered data visualization"
   ]
  },
  {
   "cell_type": "code",
   "execution_count": 26,
   "metadata": {},
   "outputs": [
    {
     "data": {
      "text/plain": [
       "<matplotlib.axes._subplots.AxesSubplot at 0x15d87b7f6c8>"
      ]
     },
     "execution_count": 26,
     "metadata": {},
     "output_type": "execute_result"
    },
    {
     "data": {
      "image/png": "[encoded data removed]",
      "text/plain": [
       "<Figure size 432x288 with 1 Axes>"
      ]
     },
     "metadata": {
      "needs_background": "light"
     },
     "output_type": "display_data"
    }
   ],
   "source": [
    "sns.barplot(x='Total_Recovered',y= 'Continents', data = response)"
   ]
  },
  {
   "cell_type": "code",
   "execution_count": 27,
   "metadata": {},
   "outputs": [],
   "source": [
    "recovered_data = response[response[\"Total_Recovered\"] <= 1000000]"
   ]
  },
  {
   "cell_type": "code",
   "execution_count": 28,
   "metadata": {},
   "outputs": [
    {
     "data": {
      "text/plain": [
       "<matplotlib.axes._subplots.AxesSubplot at 0x15d87c0db88>"
      ]
     },
     "execution_count": 28,
     "metadata": {},
     "output_type": "execute_result"
    },
    {
     "data": {
      "image/png": "[encoded data removed]",
      "text/plain": [
       "<Figure size 432x288 with 1 Axes>"
      ]
     },
     "metadata": {
      "needs_background": "light"
     },
     "output_type": "display_data"
    }
   ],
   "source": [
    "sns.barplot(x='Total_Recovered',y= 'Continents', data = recovered_data)"
   ]
  },
  {
   "cell_type": "markdown",
   "metadata": {},
   "source": [
    "# Total_Deaths visualization"
   ]
  },
  {
   "cell_type": "code",
   "execution_count": 29,
   "metadata": {},
   "outputs": [
    {
     "data": {
      "text/plain": [
       "30"
      ]
     },
     "execution_count": 29,
     "metadata": {},
     "output_type": "execute_result"
    }
   ],
   "source": [
    "response[\"Total_Deaths\"].isnull().sum()\n",
    "# missing data"
   ]
  },
  {
   "cell_type": "code",
   "execution_count": 30,
   "metadata": {},
   "outputs": [],
   "source": [
    "# fill in the empty data with a default value\n",
    "response['Total_Deaths'].fillna(0, inplace = True)"
   ]
  },
  {
   "cell_type": "code",
   "execution_count": 31,
   "metadata": {},
   "outputs": [
    {
     "data": {
      "text/plain": [
       "0"
      ]
     },
     "execution_count": 31,
     "metadata": {},
     "output_type": "execute_result"
    }
   ],
   "source": [
    "response['Total_Deaths'].isnull().sum()"
   ]
  },
  {
   "cell_type": "code",
   "execution_count": 32,
   "metadata": {},
   "outputs": [
    {
     "data": {
      "text/plain": [
       "pandas.core.series.Series"
      ]
     },
     "execution_count": 32,
     "metadata": {},
     "output_type": "execute_result"
    }
   ],
   "source": [
    "type(response['Total_Deaths'])"
   ]
  },
  {
   "cell_type": "code",
   "execution_count": 33,
   "metadata": {},
   "outputs": [],
   "source": [
    "response.Total_Deaths= response.Total_Deaths.astype('int64')\n",
    "# dealing with strings within the column"
   ]
  },
  {
   "cell_type": "code",
   "execution_count": 34,
   "metadata": {},
   "outputs": [
    {
     "data": {
      "text/plain": [
       "<matplotlib.axes._subplots.AxesSubplot at 0x15d87ca1108>"
      ]
     },
     "execution_count": 34,
     "metadata": {},
     "output_type": "execute_result"
    },
    {
     "data": {
      "image/png": "[encoded data removed]",
      "text/plain": [
       "<Figure size 432x288 with 1 Axes>"
      ]
     },
     "metadata": {
      "needs_background": "light"
     },
     "output_type": "display_data"
    }
   ],
   "source": [
    "sns.barplot(x='Total_Deaths',y='Continents', data=response)"
   ]
  },
  {
   "cell_type": "code",
   "execution_count": 35,
   "metadata": {},
   "outputs": [],
   "source": [
    "deaths_data = response[response['Total_Deaths'] <= 100000]"
   ]
  },
  {
   "cell_type": "code",
   "execution_count": 36,
   "metadata": {},
   "outputs": [
    {
     "data": {
      "text/plain": [
       "<matplotlib.axes._subplots.AxesSubplot at 0x15d87d22cc8>"
      ]
     },
     "execution_count": 36,
     "metadata": {},
     "output_type": "execute_result"
    },
    {
     "data": {
      "image/png": "[encoded data removed]",
      "text/plain": [
       "<Figure size 432x288 with 1 Axes>"
      ]
     },
     "metadata": {
      "needs_background": "light"
     },
     "output_type": "display_data"
    }
   ],
   "source": [
    "sns.barplot(x='Total_Deaths',y= 'Continents', data = deaths_data)"
   ]
  },
  {
   "cell_type": "markdown",
   "metadata": {},
   "source": [
    "# serious cases data visualization"
   ]
  },
  {
   "cell_type": "code",
   "execution_count": 37,
   "metadata": {},
   "outputs": [
    {
     "data": {
      "text/plain": [
       "84"
      ]
     },
     "execution_count": 37,
     "metadata": {},
     "output_type": "execute_result"
    }
   ],
   "source": [
    "response[\"Serious/Critical\"].isnull().sum()"
   ]
  },
  {
   "cell_type": "code",
   "execution_count": 38,
   "metadata": {},
   "outputs": [],
   "source": [
    "response['Serious/Critical'].fillna(0, inplace = True)"
   ]
  },
  {
   "cell_type": "code",
   "execution_count": 39,
   "metadata": {},
   "outputs": [
    {
     "data": {
      "text/plain": [
       "0"
      ]
     },
     "execution_count": 39,
     "metadata": {},
     "output_type": "execute_result"
    }
   ],
   "source": [
    "response[\"Serious/Critical\"].isnull().sum()"
   ]
  },
  {
   "cell_type": "code",
   "execution_count": 40,
   "metadata": {},
   "outputs": [
    {
     "data": {
      "text/plain": [
       "<matplotlib.axes._subplots.AxesSubplot at 0x15d87dad108>"
      ]
     },
     "execution_count": 40,
     "metadata": {},
     "output_type": "execute_result"
    },
    {
     "data": {
      "image/png": "[encoded data removed]",
      "text/plain": [
       "<Figure size 432x288 with 1 Axes>"
      ]
     },
     "metadata": {
      "needs_background": "light"
     },
     "output_type": "display_data"
    }
   ],
   "source": [
    "sns.barplot(x='Serious/Critical',y='Continents', data=response)"
   ]
  },
  {
   "cell_type": "code",
   "execution_count": 41,
   "metadata": {},
   "outputs": [],
   "source": [
    "serious_data = response[response[\"Serious/Critical\"] <= 10000]"
   ]
  },
  {
   "cell_type": "code",
   "execution_count": 42,
   "metadata": {},
   "outputs": [
    {
     "data": {
      "text/plain": [
       "<matplotlib.axes._subplots.AxesSubplot at 0x15d87e150c8>"
      ]
     },
     "execution_count": 42,
     "metadata": {},
     "output_type": "execute_result"
    },
    {
     "data": {
      "image/png": "[encoded data removed]",
      "text/plain": [
       "<Figure size 432x288 with 1 Axes>"
      ]
     },
     "metadata": {
      "needs_background": "light"
     },
     "output_type": "display_data"
    }
   ],
   "source": [
    "sns.barplot(x='Serious/Critical',y= 'Continents', data = serious_data)"
   ]
  },
  {
   "cell_type": "markdown",
   "metadata": {},
   "source": [
    "# Total_tests done "
   ]
  },
  {
   "cell_type": "code",
   "execution_count": 43,
   "metadata": {},
   "outputs": [
    {
     "data": {
      "text/plain": [
       "25"
      ]
     },
     "execution_count": 43,
     "metadata": {},
     "output_type": "execute_result"
    }
   ],
   "source": [
    "response[\"Total_Tests\"].isnull().sum()\n",
    "# there is significant amount of missing data"
   ]
  },
  {
   "cell_type": "code",
   "execution_count": 44,
   "metadata": {},
   "outputs": [],
   "source": [
    "response['Total_Tests'].fillna(0,inplace =True)"
   ]
  },
  {
   "cell_type": "code",
   "execution_count": 45,
   "metadata": {},
   "outputs": [
    {
     "data": {
      "text/plain": [
       "0"
      ]
     },
     "execution_count": 45,
     "metadata": {},
     "output_type": "execute_result"
    }
   ],
   "source": [
    "response[\"Total_Tests\"].isnull().sum()"
   ]
  },
  {
   "cell_type": "code",
   "execution_count": 46,
   "metadata": {},
   "outputs": [
    {
     "data": {
      "text/plain": [
       "pandas.core.series.Series"
      ]
     },
     "execution_count": 46,
     "metadata": {},
     "output_type": "execute_result"
    }
   ],
   "source": [
    "type(response['Total_Tests'])"
   ]
  },
  {
   "cell_type": "code",
   "execution_count": 47,
   "metadata": {},
   "outputs": [
    {
     "name": "stdout",
     "output_type": "stream",
     "text": [
      "<class 'pandas.core.frame.DataFrame'>\n",
      "RangeIndex: 216 entries, 0 to 215\n",
      "Data columns (total 13 columns):\n",
      "Country             216 non-null object\n",
      "Total_Cases         216 non-null int64\n",
      "New_Cases           47 non-null object\n",
      "Total_Deaths        216 non-null int64\n",
      "New_Deaths          22 non-null object\n",
      "Total_Recovered     211 non-null float64\n",
      "Active_Cases        212 non-null float64\n",
      "Serious/Critical    216 non-null float64\n",
      "Tot_Cases           214 non-null object\n",
      "Deaths              184 non-null object\n",
      "Total_Tests         216 non-null object\n",
      "Tests               191 non-null object\n",
      "Continents          214 non-null object\n",
      "dtypes: float64(3), int64(2), object(8)\n",
      "memory usage: 22.1+ KB\n"
     ]
    }
   ],
   "source": [
    "response.info()"
   ]
  },
  {
   "cell_type": "code",
   "execution_count": 48,
   "metadata": {},
   "outputs": [],
   "source": [
    "# changing from object to float\n",
    "response['Total_Tests']=response['Total_Tests'].astype(str).str.replace(',','').astype(float)"
   ]
  },
  {
   "cell_type": "code",
   "execution_count": 49,
   "metadata": {},
   "outputs": [
    {
     "name": "stdout",
     "output_type": "stream",
     "text": [
      "<class 'pandas.core.frame.DataFrame'>\n",
      "RangeIndex: 216 entries, 0 to 215\n",
      "Data columns (total 13 columns):\n",
      "Country             216 non-null object\n",
      "Total_Cases         216 non-null int64\n",
      "New_Cases           47 non-null object\n",
      "Total_Deaths        216 non-null int64\n",
      "New_Deaths          22 non-null object\n",
      "Total_Recovered     211 non-null float64\n",
      "Active_Cases        212 non-null float64\n",
      "Serious/Critical    216 non-null float64\n",
      "Tot_Cases           214 non-null object\n",
      "Deaths              184 non-null object\n",
      "Total_Tests         216 non-null float64\n",
      "Tests               191 non-null object\n",
      "Continents          214 non-null object\n",
      "dtypes: float64(4), int64(2), object(7)\n",
      "memory usage: 22.1+ KB\n"
     ]
    }
   ],
   "source": [
    "response.info()"
   ]
  },
  {
   "cell_type": "code",
   "execution_count": 50,
   "metadata": {},
   "outputs": [
    {
     "data": {
      "text/plain": [
       "<matplotlib.axes._subplots.AxesSubplot at 0x15d87e04548>"
      ]
     },
     "execution_count": 50,
     "metadata": {},
     "output_type": "execute_result"
    },
    {
     "data": {
      "image/png": "[encoded data removed]",
      "text/plain": [
       "<Figure size 432x288 with 1 Axes>"
      ]
     },
     "metadata": {
      "needs_background": "light"
     },
     "output_type": "display_data"
    }
   ],
   "source": [
    "sns.barplot(x='Total_Tests',y='Continents', data=response)"
   ]
  },
  {
   "cell_type": "markdown",
   "metadata": {},
   "source": [
    "# Grouping the data for easier readability"
   ]
  },
  {
   "cell_type": "code",
   "execution_count": 51,
   "metadata": {},
   "outputs": [],
   "source": [
    "response_grp=response.groupby(['Continents','Country'])['Total_Cases','Total_Recovered','Active_Cases','Serious/Critical','Total_Deaths','Total_Tests'].mean()"
   ]
  },
  {
   "cell_type": "code",
   "execution_count": 52,
   "metadata": {},
   "outputs": [
    {
     "data": {
      "text/html": [
       "<div>\n",
       "<style scoped>\n",
       "    .dataframe tbody tr th:only-of-type {\n",
       "        vertical-align: middle;\n",
       "    }\n",
       "\n",
       "    .dataframe tbody tr th {\n",
       "        vertical-align: top;\n",
       "    }\n",
       "\n",
       "    .dataframe thead th {\n",
       "        text-align: right;\n",
       "    }\n",
       "</style>\n",
       "<table border=\"1\" class=\"dataframe\">\n",
       "  <thead>\n",
       "    <tr style=\"text-align: right;\">\n",
       "      <th></th>\n",
       "      <th></th>\n",
       "      <th>Total_Cases</th>\n",
       "      <th>Total_Recovered</th>\n",
       "      <th>Active_Cases</th>\n",
       "      <th>Serious/Critical</th>\n",
       "      <th>Total_Deaths</th>\n",
       "      <th>Total_Tests</th>\n",
       "    </tr>\n",
       "    <tr>\n",
       "      <th>Continents</th>\n",
       "      <th>Country</th>\n",
       "      <th></th>\n",
       "      <th></th>\n",
       "      <th></th>\n",
       "      <th></th>\n",
       "      <th></th>\n",
       "      <th></th>\n",
       "    </tr>\n",
       "  </thead>\n",
       "  <tbody>\n",
       "    <tr>\n",
       "      <td rowspan=\"5\" valign=\"top\">Africa</td>\n",
       "      <td>Algeria</td>\n",
       "      <td>11771</td>\n",
       "      <td>8422.0</td>\n",
       "      <td>2504.0</td>\n",
       "      <td>41.0</td>\n",
       "      <td>845</td>\n",
       "      <td>0.0</td>\n",
       "    </tr>\n",
       "    <tr>\n",
       "      <td>Angola</td>\n",
       "      <td>183</td>\n",
       "      <td>77.0</td>\n",
       "      <td>97.0</td>\n",
       "      <td>1.0</td>\n",
       "      <td>9</td>\n",
       "      <td>10000.0</td>\n",
       "    </tr>\n",
       "    <tr>\n",
       "      <td>Benin</td>\n",
       "      <td>765</td>\n",
       "      <td>253.0</td>\n",
       "      <td>499.0</td>\n",
       "      <td>2.0</td>\n",
       "      <td>13</td>\n",
       "      <td>54306.0</td>\n",
       "    </tr>\n",
       "    <tr>\n",
       "      <td>Botswana</td>\n",
       "      <td>89</td>\n",
       "      <td>25.0</td>\n",
       "      <td>63.0</td>\n",
       "      <td>1.0</td>\n",
       "      <td>1</td>\n",
       "      <td>33919.0</td>\n",
       "    </tr>\n",
       "    <tr>\n",
       "      <td>Burkina Faso</td>\n",
       "      <td>903</td>\n",
       "      <td>814.0</td>\n",
       "      <td>36.0</td>\n",
       "      <td>0.0</td>\n",
       "      <td>53</td>\n",
       "      <td>0.0</td>\n",
       "    </tr>\n",
       "    <tr>\n",
       "      <td>...</td>\n",
       "      <td>...</td>\n",
       "      <td>...</td>\n",
       "      <td>...</td>\n",
       "      <td>...</td>\n",
       "      <td>...</td>\n",
       "      <td>...</td>\n",
       "      <td>...</td>\n",
       "    </tr>\n",
       "    <tr>\n",
       "      <td rowspan=\"5\" valign=\"top\">South America</td>\n",
       "      <td>Paraguay</td>\n",
       "      <td>1379</td>\n",
       "      <td>871.0</td>\n",
       "      <td>495.0</td>\n",
       "      <td>1.0</td>\n",
       "      <td>13</td>\n",
       "      <td>56992.0</td>\n",
       "    </tr>\n",
       "    <tr>\n",
       "      <td>Peru</td>\n",
       "      <td>254936</td>\n",
       "      <td>141967.0</td>\n",
       "      <td>104924.0</td>\n",
       "      <td>1143.0</td>\n",
       "      <td>8045</td>\n",
       "      <td>1504209.0</td>\n",
       "    </tr>\n",
       "    <tr>\n",
       "      <td>Suriname</td>\n",
       "      <td>314</td>\n",
       "      <td>106.0</td>\n",
       "      <td>200.0</td>\n",
       "      <td>2.0</td>\n",
       "      <td>8</td>\n",
       "      <td>1165.0</td>\n",
       "    </tr>\n",
       "    <tr>\n",
       "      <td>Uruguay</td>\n",
       "      <td>876</td>\n",
       "      <td>814.0</td>\n",
       "      <td>37.0</td>\n",
       "      <td>4.0</td>\n",
       "      <td>25</td>\n",
       "      <td>57289.0</td>\n",
       "    </tr>\n",
       "    <tr>\n",
       "      <td>Venezuela</td>\n",
       "      <td>3917</td>\n",
       "      <td>835.0</td>\n",
       "      <td>3049.0</td>\n",
       "      <td>6.0</td>\n",
       "      <td>33</td>\n",
       "      <td>1149315.0</td>\n",
       "    </tr>\n",
       "  </tbody>\n",
       "</table>\n",
       "<p>214 rows × 6 columns</p>\n",
       "</div>"
      ],
      "text/plain": [
       "                            Total_Cases  Total_Recovered  Active_Cases  \\\n",
       "Continents    Country                                                    \n",
       "Africa        Algeria             11771           8422.0        2504.0   \n",
       "              Angola                183             77.0          97.0   \n",
       "              Benin                 765            253.0         499.0   \n",
       "              Botswana               89             25.0          63.0   \n",
       "              Burkina Faso          903            814.0          36.0   \n",
       "...                                 ...              ...           ...   \n",
       "South America Paraguay             1379            871.0         495.0   \n",
       "              Peru               254936         141967.0      104924.0   \n",
       "              Suriname              314            106.0         200.0   \n",
       "              Uruguay               876            814.0          37.0   \n",
       "              Venezuela            3917            835.0        3049.0   \n",
       "\n",
       "                            Serious/Critical  Total_Deaths  Total_Tests  \n",
       "Continents    Country                                                    \n",
       "Africa        Algeria                   41.0           845          0.0  \n",
       "              Angola                     1.0             9      10000.0  \n",
       "              Benin                      2.0            13      54306.0  \n",
       "              Botswana                   1.0             1      33919.0  \n",
       "              Burkina Faso               0.0            53          0.0  \n",
       "...                                      ...           ...          ...  \n",
       "South America Paraguay                   1.0            13      56992.0  \n",
       "              Peru                    1143.0          8045    1504209.0  \n",
       "              Suriname                   2.0             8       1165.0  \n",
       "              Uruguay                    4.0            25      57289.0  \n",
       "              Venezuela                  6.0            33    1149315.0  \n",
       "\n",
       "[214 rows x 6 columns]"
      ]
     },
     "execution_count": 52,
     "metadata": {},
     "output_type": "execute_result"
    }
   ],
   "source": [
    "response_grp"
   ]
  },
  {
   "cell_type": "markdown",
   "metadata": {},
   "source": [
    "# Working with mean data to get global data distribution"
   ]
  },
  {
   "cell_type": "code",
   "execution_count": 53,
   "metadata": {},
   "outputs": [],
   "source": [
    "cases_mean=response['Total_Cases'].mean()\n",
    "recovered_mean = response['Total_Recovered'].mean()\n",
    "active_mean = response['Active_Cases'].mean()\n",
    "serious_mean = response['Serious/Critical'].mean()\n",
    "deaths_mean = response['Total_Deaths'].mean()"
   ]
  },
  {
   "cell_type": "code",
   "execution_count": 54,
   "metadata": {},
   "outputs": [
    {
     "data": {
      "image/png": "[encoded data removed]",
      "text/plain": [
       "<Figure size 432x288 with 1 Axes>"
      ]
     },
     "metadata": {},
     "output_type": "display_data"
    }
   ],
   "source": [
    "my_data = [cases_mean ,recovered_mean,active_mean,serious_mean,deaths_mean]\n",
    "my_labels ='Total_Cases','Total_Recovered','Active_Cases','Serious/Critical','Total_Deaths'\n",
    "plt.pie(my_data ,labels =my_labels,autopct='%1.1f%%')\n",
    "plt.axis('equal')\n",
    "plt.show()"
   ]
  },
  {
   "cell_type": "code",
   "execution_count": 55,
   "metadata": {},
   "outputs": [],
   "source": [
    "world_data = response.iloc[0]"
   ]
  },
  {
   "cell_type": "code",
   "execution_count": 56,
   "metadata": {},
   "outputs": [
    {
     "data": {
      "text/plain": [
       "Country                   World\n",
       "Total_Cases             9067824\n",
       "New_Cases                28,887\n",
       "Total_Deaths             471040\n",
       "New_Deaths                1,436\n",
       "Total_Recovered     4.85072e+06\n",
       "Active_Cases        3.74607e+06\n",
       "Serious/Critical          54740\n",
       "Tot_Cases                 1,163\n",
       "Deaths                     60.4\n",
       "Total_Tests                   0\n",
       "Tests                       NaN\n",
       "Continents                  All\n",
       "Name: 0, dtype: object"
      ]
     },
     "execution_count": 56,
     "metadata": {},
     "output_type": "execute_result"
    }
   ],
   "source": [
    "world_data"
   ]
  },
  {
   "cell_type": "markdown",
   "metadata": {},
   "source": [
    "# Finding correlation in the data"
   ]
  },
  {
   "cell_type": "code",
   "execution_count": 57,
   "metadata": {},
   "outputs": [
    {
     "data": {
      "text/plain": [
       "Total_Cases         1.000000\n",
       "Total_Recovered     0.997949\n",
       "Active_Cases        0.996716\n",
       "Total_Deaths        0.993837\n",
       "Serious/Critical    0.990334\n",
       "Total_Tests         0.241990\n",
       "Name: Total_Cases, dtype: float64"
      ]
     },
     "execution_count": 57,
     "metadata": {},
     "output_type": "execute_result"
    }
   ],
   "source": [
    "\n",
    "corr_matrix =response.corr()\n",
    "corr_matrix[\"Total_Cases\"].sort_values(ascending = False)"
   ]
  },
  {
   "cell_type": "code",
   "execution_count": 58,
   "metadata": {},
   "outputs": [
    {
     "data": {
      "text/plain": [
       "Total_Cases                1.000000\n",
       "Total_Recovered            0.997949\n",
       "calculated_Active_Cases    0.997428\n",
       "Active_Cases               0.996716\n",
       "Total_Deaths               0.993837\n",
       "Serious/Critical           0.990334\n",
       "Total_Tests                0.241990\n",
       "Name: Total_Cases, dtype: float64"
      ]
     },
     "execution_count": 58,
     "metadata": {},
     "output_type": "execute_result"
    }
   ],
   "source": [
    "# Experimenting with attribute combinations\n",
    "response[\"calculated_Active_Cases\"]= response[\"Total_Cases\"]- response[\"Total_Recovered\"]\n",
    "\n",
    "# getting the correlation matrix\n",
    "corr_matrix = response.corr()\n",
    "corr_matrix[\"Total_Cases\"].sort_values(ascending = False)\n",
    "# displays the best corellation between the features"
   ]
  },
  {
   "cell_type": "code",
   "execution_count": 59,
   "metadata": {},
   "outputs": [
    {
     "data": {
      "text/plain": [
       "<matplotlib.axes._subplots.AxesSubplot at 0x15d87fe40c8>"
      ]
     },
     "execution_count": 59,
     "metadata": {},
     "output_type": "execute_result"
    },
    {
     "data": {
      "image/png": "[encoded data removed]",
      "text/plain": [
       "<Figure size 432x288 with 1 Axes>"
      ]
     },
     "metadata": {
      "needs_background": "light"
     },
     "output_type": "display_data"
    }
   ],
   "source": [
    "response.plot(kind = 'scatter',x ='calculated_Active_Cases',y='Total_Cases', alpha = 0.2)"
   ]
  },
  {
   "cell_type": "code",
   "execution_count": 60,
   "metadata": {},
   "outputs": [],
   "source": [
    "calculated_data = response[response['calculated_Active_Cases'] <= 1000000]"
   ]
  },
  {
   "cell_type": "code",
   "execution_count": 61,
   "metadata": {},
   "outputs": [
    {
     "data": {
      "text/plain": [
       "<matplotlib.axes._subplots.AxesSubplot at 0x15d880589c8>"
      ]
     },
     "execution_count": 61,
     "metadata": {},
     "output_type": "execute_result"
    },
    {
     "data": {
      "image/png": "[encoded data removed]",
      "text/plain": [
       "<Figure size 432x288 with 1 Axes>"
      ]
     },
     "metadata": {
      "needs_background": "light"
     },
     "output_type": "display_data"
    }
   ],
   "source": [
    "calculated_data.plot(kind = 'scatter',x ='calculated_Active_Cases',y='Total_Cases', alpha = 1)"
   ]
  },
  {
   "cell_type": "code",
   "execution_count": null,
   "metadata": {},
   "outputs": [],
   "source": []
  }
 ],
 "metadata": {
  "kernelspec": {
   "display_name": "Python 3",
   "language": "python",
   "name": "python3"
  },
  "language_info": {
   "codemirror_mode": {
    "name": "ipython",
    "version": 3
   },
   "file_extension": ".py",
   "mimetype": "text/x-python",
   "name": "python",
   "nbconvert_exporter": "python",
   "pygments_lexer": "ipython3",
   "version": "3.7.4"
  }
 },
 "nbformat": 4,
 "nbformat_minor": 2
}
