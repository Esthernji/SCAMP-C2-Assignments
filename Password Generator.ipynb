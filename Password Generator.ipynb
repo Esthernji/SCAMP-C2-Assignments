{
 "cells": [
  {
   "cell_type": "code",
   "execution_count": 1,
   "metadata": {},
   "outputs": [],
   "source": [
    "import random"
   ]
  },
  {
   "cell_type": "code",
   "execution_count": 2,
   "metadata": {},
   "outputs": [],
   "source": [
    "def get_char(char_list , number):\n",
    "    temp_list =[]\n",
    "    for i in range(number):\n",
    "        temp_list.append(random.choice(char_list))\n",
    "    return temp_list"
   ]
  },
  {
   "cell_type": "code",
   "execution_count": 3,
   "metadata": {},
   "outputs": [
    {
     "name": "stdout",
     "output_type": "stream",
     "text": [
      "Enter the number of characters between 6 and 16. 8\n",
      "Enter the number of uppercase letters. 2\n",
      "Enter the number of lowercase letters. 2\n",
      "Enter the number of digits. 2\n",
      "Enter the number of symbols. 2\n",
      "Vs+W7m3]\n"
     ]
    }
   ],
   "source": [
    "while True:\n",
    "    \n",
    "    num_char= int(input(\"Enter the number of characters between 6 and 16. \"))\n",
    "    num_upper= int(input(\"Enter the number of uppercase letters. \"))\n",
    "    num_lower= int(input(\"Enter the number of lowercase letters. \"))\n",
    "    num_digits = int(input(\"Enter the number of digits. \"))\n",
    "    num_symbols= int(input(\"Enter the number of symbols. \"))\n",
    "    if num_char < num_upper + num_lower + num_digits + num_symbols:\n",
    "        print(\"The Characters do not match\")\n",
    "    else:\n",
    "        break\n",
    "        \n",
    "\n",
    "upper_list =[chr(i) for i in range(65 ,65+26)]\n",
    "upper_char =get_char(upper_list , num_upper)\n",
    "lower_list =[chr(i) for i in range(97 ,97+26)]\n",
    "lower_char =get_char(lower_list , num_lower)\n",
    "digit_list =[str(i) for i in range(0 ,10)]\n",
    "digit_char =get_char(digit_list , num_digits)\n",
    "symbol_list =[chr(i) for i in range(32 ,48)]\n",
    "symbol_list +=[chr(i) for i in range(58 ,65)]\n",
    "symbol_list +=[chr(i) for i in range(91 ,97)]\n",
    "symbol_list +=[chr(i) for i in range(123 ,127)]\n",
    "symbol_char =get_char(symbol_list , num_symbols)\n",
    "\n",
    "whole_list =upper_list + lower_list + digit_list + symbol_list\n",
    "\n",
    "num_unfilled_char = num_char - num_upper - num_lower - num_digits - num_symbols\n",
    "remaining_char = get_char(whole_list , num_unfilled_char)\n",
    "\n",
    "password = upper_char + lower_char + digit_char + symbol_char + remaining_char\n",
    "random.shuffle(password)\n",
    "password = ''.join(password)\n",
    "print(password)"
   ]
  },
  {
   "cell_type": "code",
   "execution_count": null,
   "metadata": {},
   "outputs": [],
   "source": []
  }
 ],
 "metadata": {
  "kernelspec": {
   "display_name": "Python 3",
   "language": "python",
   "name": "python3"
  },
  "language_info": {
   "codemirror_mode": {
    "name": "ipython",
    "version": 3
   },
   "file_extension": ".py",
   "mimetype": "text/x-python",
   "name": "python",
   "nbconvert_exporter": "python",
   "pygments_lexer": "ipython3",
   "version": "3.7.4"
  }
 },
 "nbformat": 4,
 "nbformat_minor": 2
}
